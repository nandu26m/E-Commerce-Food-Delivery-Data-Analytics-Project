{
  "nbformat": 4,
  "nbformat_minor": 0,
  "metadata": {
    "colab": {
      "provenance": [],
      "authorship_tag": "ABX9TyPVBrN0m+IGOlN7Rip4D2hW",
      "include_colab_link": true
    },
    "kernelspec": {
      "name": "python3",
      "display_name": "Python 3"
    },
    "language_info": {
      "name": "python"
    }
  },
  "cells": [
    {
      "cell_type": "markdown",
      "metadata": {
        "id": "view-in-github",
        "colab_type": "text"
      },
      "source": [
        "<a href=\"https://colab.research.google.com/github/nandu26m/E-Commerce-Food-Delivery-Data-Analytics-Project/blob/main/notebooks/Python_script_to_generate_sample_dataset.ipynb\" target=\"_parent\"><img src=\"https://colab.research.google.com/assets/colab-badge.svg\" alt=\"Open In Colab\"/></a>"
      ]
    },
    {
      "cell_type": "code",
      "execution_count": 4,
      "metadata": {
        "colab": {
          "base_uri": "https://localhost:8080/"
        },
        "id": "NmM1ys3H8Ksr",
        "outputId": "001d699d-1276-48c4-fd7c-cd0cebdc5ccf"
      },
      "outputs": [
        {
          "output_type": "stream",
          "name": "stdout",
          "text": [
            "Requirement already satisfied: pandas in /usr/local/lib/python3.11/dist-packages (2.2.2)\n",
            "Requirement already satisfied: faker in /usr/local/lib/python3.11/dist-packages (37.4.0)\n",
            "Requirement already satisfied: numpy>=1.23.2 in /usr/local/lib/python3.11/dist-packages (from pandas) (2.0.2)\n",
            "Requirement already satisfied: python-dateutil>=2.8.2 in /usr/local/lib/python3.11/dist-packages (from pandas) (2.9.0.post0)\n",
            "Requirement already satisfied: pytz>=2020.1 in /usr/local/lib/python3.11/dist-packages (from pandas) (2025.2)\n",
            "Requirement already satisfied: tzdata>=2022.7 in /usr/local/lib/python3.11/dist-packages (from pandas) (2025.2)\n",
            "Requirement already satisfied: six>=1.5 in /usr/local/lib/python3.11/dist-packages (from python-dateutil>=2.8.2->pandas) (1.17.0)\n",
            "python3: can't open file '/content/generate_users.py': [Errno 2] No such file or directory\n"
          ]
        }
      ],
      "source": [
        "!pip install pandas faker\n",
        "!python generate_users.py"
      ]
    },
    {
      "cell_type": "markdown",
      "source": [
        "### *This Python script generates sample records.*"
      ],
      "metadata": {
        "id": "eUp1JSwY9Uf0"
      }
    },
    {
      "cell_type": "code",
      "source": [
        "import pandas as pd\n",
        "import numpy as np\n",
        "from faker import Faker\n",
        "import random\n",
        "import string\n",
        "from datetime import timedelta, datetime\n",
        "from google.colab import files  # Comment if not on Colab\n",
        "\n",
        "fake = Faker()\n",
        "\n",
        "# Constants for dataset sizes\n",
        "NUM_USERS = 10000\n",
        "NUM_RESTAURANTS = 500\n",
        "NUM_MENU_ITEMS = 5000\n",
        "NUM_ORDERS = 50000\n",
        "NUM_ORDER_ITEMS = 120000\n",
        "NUM_DELIVERY_PERSONS = 200\n",
        "NUM_DELIVERIES = 48000\n",
        "NUM_PAYMENTS = 50000\n",
        "NUM_RATINGS = 25000\n",
        "NUM_PAYMENT_METHODS = 5\n",
        "NUM_PROMOTIONS = 50\n",
        "NUM_ORDER_PROMOTIONS = 8000\n",
        "NUM_MENU_ITEM_HISTORY = 10000\n",
        "NUM_DELIVERY_STATUS_HISTORY = 150000\n",
        "NUM_USER_LOGINS = 80000\n",
        "\n",
        "# Shared lists for consistency\n",
        "cities = ['Berlin', 'Munich', 'Hamburg', 'Cologne', 'Düsseldorf', 'Frankfurt', 'Stuttgart']\n",
        "devices = ['iOS', 'Android', 'Web']\n",
        "payment_methods_list = ['Credit Card', 'PayPal', 'Apple Pay', 'Google Pay', 'Cash']\n",
        "\n",
        "cuisines = [\n",
        "    'Italian', 'Chinese', 'Indian', 'Mexican', 'Japanese', 'Thai', 'French', 'Mediterranean',\n",
        "    'American', 'Vietnamese', 'Korean', 'Turkish', 'Greek', 'Spanish', 'Lebanese'\n",
        "]\n",
        "\n",
        "order_statuses = ['completed', 'cancelled', 'pending', 'failed']\n",
        "\n",
        "delivery_statuses = ['pending', 'picked_up', 'in_transit', 'delivered', 'failed']\n",
        "\n",
        "payment_statuses = ['paid', 'pending', 'failed']\n",
        "\n",
        "promo_codes = [f'PROMO{str(i).zfill(3)}' for i in range(1, NUM_PROMOTIONS + 1)]\n",
        "\n",
        "\n",
        "# Utility functions\n",
        "def random_date(start, end):\n",
        "    \"\"\"Generate random datetime between start and end\"\"\"\n",
        "    return fake.date_time_between_dates(datetime_start=start, datetime_end=end)\n",
        "\n",
        "\n",
        "def random_bool(p=0.5):\n",
        "    return random.random() < p\n",
        "\n",
        "\n",
        "# --- Generate Users ---\n",
        "print('Generating users...')\n",
        "users = []\n",
        "for user_id in range(1, NUM_USERS + 1):\n",
        "    name = fake.name()\n",
        "    email = fake.unique.email()\n",
        "    signup_date = random_date(datetime(2020, 1, 1), datetime(2023, 6, 1))\n",
        "    city = random.choice(cities)\n",
        "    device = random.choice(devices)\n",
        "    is_loyal = random_bool(0.3)\n",
        "    users.append([user_id, name, email, signup_date, city, device, is_loyal])\n",
        "\n",
        "df_users = pd.DataFrame(users, columns=['user_id', 'name', 'email', 'signup_date', 'city', 'device', 'is_loyal'])\n",
        "\n",
        "\n",
        "# --- Generate Restaurants ---\n",
        "print('Generating restaurants...')\n",
        "restaurants = []\n",
        "for restaurant_id in range(1, NUM_RESTAURANTS + 1):\n",
        "    name = fake.company() + \" \" + random.choice(['Bistro', 'Cafe', 'Kitchen', 'House', 'Diner'])\n",
        "    cuisine = random.choice(cuisines)\n",
        "    rating = round(random.uniform(2.5, 5.0), 1)\n",
        "    city = random.choice(cities)\n",
        "    restaurants.append([restaurant_id, name, cuisine, rating, city])\n",
        "\n",
        "df_restaurants = pd.DataFrame(restaurants, columns=['restaurant_id', 'name', 'cuisine', 'rating', 'city'])\n",
        "\n",
        "\n",
        "# --- Generate Payment Methods ---\n",
        "print('Generating payment methods...')\n",
        "payment_methods = []\n",
        "for method_id, method_name in enumerate(payment_methods_list, start=1):\n",
        "    payment_methods.append([method_id, method_name])\n",
        "\n",
        "df_payment_methods = pd.DataFrame(payment_methods, columns=['method_id', 'method_name'])\n",
        "\n",
        "\n",
        "# --- Generate Menu Items ---\n",
        "print('Generating menu_items...')\n",
        "menu_items = []\n",
        "for item_id in range(1, NUM_MENU_ITEMS + 1):\n",
        "    restaurant_id = random.randint(1, NUM_RESTAURANTS)\n",
        "    item_name = fake.word().capitalize() + \" \" + random.choice(['Pizza', 'Burger', 'Roll', 'Salad', 'Soup', 'Pasta', 'Sushi', 'Sandwich'])\n",
        "    price = round(random.uniform(5.0, 50.0), 2)\n",
        "    is_available = random_bool(0.9)\n",
        "    menu_items.append([item_id, restaurant_id, item_name, price, is_available])\n",
        "\n",
        "df_menu_items = pd.DataFrame(menu_items, columns=['item_id', 'restaurant_id', 'item_name', 'price', 'is_available'])\n",
        "\n",
        "\n",
        "# --- Generate Delivery Persons ---\n",
        "print('Generating delivery_persons...')\n",
        "delivery_persons = []\n",
        "for delivery_person_id in range(1, NUM_DELIVERY_PERSONS + 1):\n",
        "    name = fake.name()\n",
        "    phone = fake.phone_number()\n",
        "    city = random.choice(cities)\n",
        "    active_status = random_bool(0.95)\n",
        "    delivery_persons.append([delivery_person_id, name, phone, city, active_status])\n",
        "\n",
        "df_delivery_persons = pd.DataFrame(delivery_persons, columns=['delivery_person_id', 'name', 'phone', 'city', 'active_status'])\n",
        "\n",
        "\n",
        "# --- Generate Orders ---\n",
        "print('Generating orders...')\n",
        "orders = []\n",
        "for order_id in range(1, NUM_ORDERS + 1):\n",
        "    user_id = random.randint(1, NUM_USERS)\n",
        "    # Assign restaurant from those in the same city as user for realism\n",
        "    user_city = df_users.loc[df_users.user_id == user_id, 'city'].values[0]\n",
        "    rest_candidates = df_restaurants[df_restaurants.city == user_city]\n",
        "    if len(rest_candidates) == 0:\n",
        "        # fallback if no restaurants in user city\n",
        "        restaurant_id = random.randint(1, NUM_RESTAURANTS)\n",
        "    else:\n",
        "        restaurant_id = rest_candidates.sample(1).restaurant_id.values[0]\n",
        "    order_datetime = random_date(datetime(2022, 1, 1), datetime(2023, 6, 30))\n",
        "    payment_method_id = random.randint(1, NUM_PAYMENT_METHODS)\n",
        "    status = random.choices(order_statuses, weights=[0.7, 0.1, 0.15, 0.05])[0]\n",
        "\n",
        "    # cancellation fields\n",
        "    canceled_at = None\n",
        "    cancellation_reason = None\n",
        "    if status == 'cancelled':\n",
        "        canceled_at = order_datetime + timedelta(minutes=random.randint(5, 120))\n",
        "        cancellation_reason = random.choice(['Customer Request', 'Restaurant Closed', 'Payment Failure', 'Out of Delivery Area'])\n",
        "\n",
        "    created_at = order_datetime - timedelta(minutes=random.randint(10, 1440))\n",
        "    updated_at = order_datetime + timedelta(minutes=random.randint(0, 1440))\n",
        "\n",
        "    # total_amount is sum of order_items but unknown here, placeholder 0\n",
        "    total_amount = 0\n",
        "\n",
        "    orders.append([order_id, user_id, restaurant_id, order_datetime, total_amount, payment_method_id, status, canceled_at, cancellation_reason, created_at, updated_at])\n",
        "\n",
        "df_orders = pd.DataFrame(orders, columns=['order_id', 'user_id', 'restaurant_id', 'order_datetime', 'total_amount', 'payment_method_id', 'status', 'canceled_at', 'cancellation_reason', 'created_at', 'updated_at'])\n",
        "\n",
        "\n",
        "# --- Generate Order Items ---\n",
        "print('Generating order_items...')\n",
        "order_items = []\n",
        "order_item_id = 1\n",
        "for order_id in range(1, NUM_ORDERS + 1):\n",
        "    num_items = np.random.poisson(2.4)\n",
        "    if num_items < 1:\n",
        "        num_items = 1\n",
        "    chosen_items = df_menu_items.sample(num_items)\n",
        "    total_order_amount = 0\n",
        "    for _, row in chosen_items.iterrows():\n",
        "        quantity = random.randint(1, 3)\n",
        "        item_price = row['price']\n",
        "        total_order_amount += item_price * quantity\n",
        "        order_items.append([order_item_id, order_id, row['item_id'], quantity, item_price])\n",
        "        order_item_id += 1\n",
        "\n",
        "    # Update total_amount in orders\n",
        "    df_orders.loc[df_orders.order_id == order_id, 'total_amount'] = round(total_order_amount, 2)\n",
        "\n",
        "df_order_items = pd.DataFrame(order_items, columns=['order_item_id', 'order_id', 'item_id', 'quantity', 'item_price'])\n",
        "\n",
        "\n",
        "# --- Generate Deliveries ---\n",
        "print('Generating deliveries...')\n",
        "deliveries = []\n",
        "for delivery_id in range(1, NUM_DELIVERIES + 1):\n",
        "    order_row = df_orders.sample(1).iloc[0]\n",
        "    order_id = order_row['order_id']\n",
        "\n",
        "    # Only for completed or pending orders\n",
        "    if order_row['status'] not in ['completed', 'pending']:\n",
        "        # To keep counts, we'll still create delivery, but mark status accordingly\n",
        "        status = 'failed'\n",
        "    else:\n",
        "        status = random.choices(delivery_statuses, weights=[0.1, 0.15, 0.3, 0.4, 0.05])[0]\n",
        "\n",
        "    # Choose delivery person in same city as restaurant if possible\n",
        "    restaurant_city = df_restaurants.loc[df_restaurants.restaurant_id == order_row['restaurant_id'], 'city'].values[0]\n",
        "    dp_candidates = df_delivery_persons[df_delivery_persons.city == restaurant_city]\n",
        "    if len(dp_candidates) == 0:\n",
        "        delivery_person_id = random.randint(1, NUM_DELIVERY_PERSONS)\n",
        "    else:\n",
        "        delivery_person_id = dp_candidates.sample(1).delivery_person_id.values[0]\n",
        "\n",
        "    pickup_time = order_row['order_datetime'] + timedelta(minutes=random.randint(10, 30))\n",
        "    drop_time = pickup_time + timedelta(minutes=random.randint(10, 60))\n",
        "    distance_km = round(random.uniform(0.5, 15.0), 2)\n",
        "    created_at = pickup_time - timedelta(minutes=random.randint(10, 30))\n",
        "    updated_at = drop_time + timedelta(minutes=random.randint(0, 30))\n",
        "\n",
        "    deliveries.append([delivery_id, order_id, delivery_person_id, pickup_time, drop_time, distance_km, status, created_at, updated_at])\n",
        "\n",
        "df_deliveries = pd.DataFrame(deliveries, columns=['delivery_id', 'order_id', 'delivery_person_id', 'pickup_time', 'drop_time', 'distance_km', 'status', 'created_at', 'updated_at'])\n",
        "\n",
        "\n",
        "# --- Generate Delivery Status History ---\n",
        "print('Generating delivery_status_history...')\n",
        "delivery_status_history = []\n",
        "status_id = 1\n",
        "for delivery_id in range(1, NUM_DELIVERIES + 1):\n",
        "    num_updates = random.randint(2, 4)\n",
        "    base_time = df_deliveries.loc[df_deliveries.delivery_id == delivery_id, 'created_at'].iloc[0].to_pydatetime()\n",
        "    for _ in range(num_updates):\n",
        "        status = random.choice(delivery_statuses)\n",
        "        timestamp = base_time + timedelta(minutes=random.randint(5, 120))\n",
        "        delivery_status_history.append([status_id, delivery_id, status, timestamp])\n",
        "        status_id += 1\n",
        "        base_time = timestamp\n",
        "\n",
        "df_delivery_status_history = pd.DataFrame(delivery_status_history, columns=['status_id', 'delivery_id', 'status', 'timestamp'])\n",
        "\n",
        "\n",
        "# --- Generate Payments ---\n",
        "print('Generating payments...')\n",
        "payments = []\n",
        "for payment_id in range(1, NUM_PAYMENTS + 1):\n",
        "    order_row = df_orders.iloc[payment_id - 1]\n",
        "    amount = order_row['total_amount']\n",
        "    payment_method_id = order_row['payment_method_id']\n",
        "    payment_datetime = order_row['order_datetime'] + timedelta(minutes=random.randint(1, 60))\n",
        "    payment_status = random.choices(payment_statuses, weights=[0.85, 0.1, 0.05])[0]\n",
        "    created_at = payment_datetime - timedelta(minutes=random.randint(1, 10))\n",
        "    updated_at = payment_datetime + timedelta(minutes=random.randint(1, 10))\n",
        "    payments.append([payment_id, order_row['order_id'], amount, payment_method_id, payment_datetime, payment_status, created_at, updated_at])\n",
        "\n",
        "df_payments = pd.DataFrame(payments, columns=['payment_id', 'order_id', 'amount', 'payment_method_id', 'payment_datetime', 'payment_status', 'created_at', 'updated_at'])\n",
        "\n",
        "\n",
        "# --- Generate Ratings ---\n",
        "print('Generating ratings...')\n",
        "ratings = []\n",
        "rated_order_ids = random.sample(list(df_orders['order_id']), NUM_RATINGS)\n",
        "for rating_id, order_id in enumerate(rated_order_ids, start=1):\n",
        "    order_row = df_orders.loc[df_orders.order_id == order_id].iloc[0]\n",
        "    user_id = order_row['user_id']\n",
        "    restaurant_id = order_row['restaurant_id']\n",
        "    rating_val = round(random.uniform(1, 5), 1)\n",
        "    feedback = fake.sentence(nb_words=12)\n",
        "    created_at = order_row['order_datetime'] + timedelta(days=random.randint(0, 7))\n",
        "    updated_at = created_at + timedelta(days=random.randint(0, 5))\n",
        "    ratings.append([rating_id, order_id, user_id, restaurant_id, rating_val, feedback, created_at, updated_at])\n",
        "\n",
        "df_ratings = pd.DataFrame(ratings, columns=['rating_id', 'order_id', 'user_id', 'restaurant_id', 'rating', 'feedback', 'created_at', 'updated_at'])\n",
        "\n",
        "\n",
        "# --- Generate Promotions ---\n",
        "print('Generating promotions...')\n",
        "promotions = []\n",
        "for promo_id in range(1, NUM_PROMOTIONS + 1):\n",
        "    promo_code = promo_codes[promo_id - 1]\n",
        "    discount_percent = round(random.uniform(5, 50), 2)\n",
        "    start_date = random_date(datetime(2023, 1, 1), datetime(2023, 6, 1))\n",
        "    end_date = start_date + timedelta(days=random.randint(10, 90))\n",
        "    promotions.append([promo_id, promo_code, discount_percent, start_date, end_date])\n",
        "\n",
        "df_promotions = pd.DataFrame(promotions, columns=['promo_id', 'promo_code', 'discount_percent', 'start_date', 'end_date'])\n",
        "\n",
        "\n",
        "# --- Generate Order Promotions ---\n",
        "print('Generating order_promotions...')\n",
        "order_promotions = []\n",
        "promo_order_ids = random.sample(list(df_orders['order_id']), NUM_ORDER_PROMOTIONS)\n",
        "for op_id, order_id in enumerate(promo_order_ids, start=1):\n",
        "    promo_id = random.randint(1, NUM_PROMOTIONS)\n",
        "    # Discount amount roughly proportional to discount_percent * total_amount\n",
        "    order_amount = df_orders.loc[df_orders.order_id == order_id, 'total_amount'].values[0]\n",
        "    discount_percent = df_promotions.loc[df_promotions.promo_id == promo_id, 'discount_percent'].values[0]\n",
        "    discount_amount = round(order_amount * (discount_percent / 100), 2)\n",
        "    order_promotions.append([op_id, order_id, promo_id, discount_amount])\n",
        "\n",
        "df_order_promotions = pd.DataFrame(order_promotions, columns=['id', 'order_id', 'promo_id', 'discount_amount'])\n",
        "\n",
        "\n",
        "# --- Generate Menu Item History ---\n",
        "print('Generating menu_item_history...')\n",
        "menu_item_history = []\n",
        "for history_id in range(1, NUM_MENU_ITEM_HISTORY + 1):\n",
        "    item_id = random.randint(1, NUM_MENU_ITEMS)\n",
        "    price = round(random.uniform(5.0, 50.0), 2)\n",
        "    is_available = random_bool(0.9)\n",
        "    updated_at = random_date(datetime(2022, 1, 1), datetime(2023, 6, 1))\n",
        "    menu_item_history.append([history_id, item_id, price, is_available, updated_at])\n",
        "\n",
        "df_menu_item_history = pd.DataFrame(menu_item_history, columns=['history_id', 'item_id', 'price', 'is_available', 'updated_at'])\n",
        "\n",
        "\n",
        "# --- Generate User Logins ---\n",
        "print('Generating user_logins...')\n",
        "user_logins = []\n",
        "for login_id in range(1, NUM_USER_LOGINS + 1):\n",
        "    user_id = random.randint(1, NUM_USERS)\n",
        "    login_time = random_date(datetime(2022, 1, 1), datetime(2023, 6, 30))\n",
        "    device = random.choice(devices)\n",
        "    ip_address = fake.ipv4()\n",
        "    user_logins.append([login_id, user_id, login_time, device, ip_address])\n",
        "\n",
        "df_user_logins = pd.DataFrame(user_logins, columns=['login_id', 'user_id', 'login_time', 'device', 'ip_address'])\n",
        "\n",
        "\n",
        "# --- Save all dataframes as CSV ---\n",
        "print('Saving CSV files...')\n",
        "dfs = {\n",
        "    'users.csv': df_users,\n",
        "    'restaurants.csv': df_restaurants,\n",
        "    'menu_items.csv': df_menu_items,\n",
        "    'orders.csv': df_orders,\n",
        "    'order_items.csv': df_order_items,\n",
        "    'delivery_persons.csv': df_delivery_persons,\n",
        "    'deliveries.csv': df_deliveries,\n",
        "    'delivery_status_history.csv': df_delivery_status_history,\n",
        "    'payment_methods.csv': df_payment_methods,\n",
        "    'payments.csv': df_payments,\n",
        "    'ratings.csv': df_ratings,\n",
        "    'promotions.csv': df_promotions,\n",
        "    'order_promotions.csv': df_order_promotions,\n",
        "    'menu_item_history.csv': df_menu_item_history,\n",
        "    'user_logins.csv': df_user_logins,\n",
        "}\n",
        "\n",
        "for filename, df in dfs.items():\n",
        "    df.to_csv(filename, index=False)\n",
        "\n",
        "print('All CSV files generated.')"
      ],
      "metadata": {
        "colab": {
          "base_uri": "https://localhost:8080/"
        },
        "id": "8h172xeD8OLz",
        "outputId": "a841488b-7b47-4755-c41c-bfa6e0f5f5ce"
      },
      "execution_count": 8,
      "outputs": [
        {
          "output_type": "stream",
          "name": "stdout",
          "text": [
            "Generating users...\n",
            "Generating restaurants...\n",
            "Generating payment methods...\n",
            "Generating menu_items...\n",
            "Generating delivery_persons...\n",
            "Generating orders...\n",
            "Generating order_items...\n"
          ]
        },
        {
          "output_type": "stream",
          "name": "stderr",
          "text": [
            "/tmp/ipython-input-8-2117063409.py:173: FutureWarning: Setting an item of incompatible dtype is deprecated and will raise an error in a future version of pandas. Value '38.1' has dtype incompatible with int64, please explicitly cast to a compatible dtype first.\n",
            "  df_orders.loc[df_orders.order_id == order_id, 'total_amount'] = round(total_order_amount, 2)\n"
          ]
        },
        {
          "output_type": "stream",
          "name": "stdout",
          "text": [
            "Generating deliveries...\n",
            "Generating delivery_status_history...\n",
            "Generating payments...\n",
            "Generating ratings...\n",
            "Generating promotions...\n",
            "Generating order_promotions...\n",
            "Generating menu_item_history...\n",
            "Generating user_logins...\n",
            "Saving CSV files...\n",
            "All CSV files generated.\n"
          ]
        }
      ]
    },
    {
      "cell_type": "code",
      "source": [
        "# Uncomment below to download files in Colab one by one:\n",
        "for filename in dfs.keys():\n",
        "    files.download(filename)"
      ],
      "metadata": {
        "colab": {
          "base_uri": "https://localhost:8080/",
          "height": 17
        },
        "id": "SPPUETjWBrrz",
        "outputId": "5c73d341-3bb7-4703-c084-187358c81f55"
      },
      "execution_count": 9,
      "outputs": [
        {
          "output_type": "display_data",
          "data": {
            "text/plain": [
              "<IPython.core.display.Javascript object>"
            ],
            "application/javascript": [
              "\n",
              "    async function download(id, filename, size) {\n",
              "      if (!google.colab.kernel.accessAllowed) {\n",
              "        return;\n",
              "      }\n",
              "      const div = document.createElement('div');\n",
              "      const label = document.createElement('label');\n",
              "      label.textContent = `Downloading \"${filename}\": `;\n",
              "      div.appendChild(label);\n",
              "      const progress = document.createElement('progress');\n",
              "      progress.max = size;\n",
              "      div.appendChild(progress);\n",
              "      document.body.appendChild(div);\n",
              "\n",
              "      const buffers = [];\n",
              "      let downloaded = 0;\n",
              "\n",
              "      const channel = await google.colab.kernel.comms.open(id);\n",
              "      // Send a message to notify the kernel that we're ready.\n",
              "      channel.send({})\n",
              "\n",
              "      for await (const message of channel.messages) {\n",
              "        // Send a message to notify the kernel that we're ready.\n",
              "        channel.send({})\n",
              "        if (message.buffers) {\n",
              "          for (const buffer of message.buffers) {\n",
              "            buffers.push(buffer);\n",
              "            downloaded += buffer.byteLength;\n",
              "            progress.value = downloaded;\n",
              "          }\n",
              "        }\n",
              "      }\n",
              "      const blob = new Blob(buffers, {type: 'application/binary'});\n",
              "      const a = document.createElement('a');\n",
              "      a.href = window.URL.createObjectURL(blob);\n",
              "      a.download = filename;\n",
              "      div.appendChild(a);\n",
              "      a.click();\n",
              "      div.remove();\n",
              "    }\n",
              "  "
            ]
          },
          "metadata": {}
        },
        {
          "output_type": "display_data",
          "data": {
            "text/plain": [
              "<IPython.core.display.Javascript object>"
            ],
            "application/javascript": [
              "download(\"download_afda4e31-6f1b-4c3c-b224-e349a8df3ce7\", \"users.csv\", 889843)"
            ]
          },
          "metadata": {}
        },
        {
          "output_type": "display_data",
          "data": {
            "text/plain": [
              "<IPython.core.display.Javascript object>"
            ],
            "application/javascript": [
              "\n",
              "    async function download(id, filename, size) {\n",
              "      if (!google.colab.kernel.accessAllowed) {\n",
              "        return;\n",
              "      }\n",
              "      const div = document.createElement('div');\n",
              "      const label = document.createElement('label');\n",
              "      label.textContent = `Downloading \"${filename}\": `;\n",
              "      div.appendChild(label);\n",
              "      const progress = document.createElement('progress');\n",
              "      progress.max = size;\n",
              "      div.appendChild(progress);\n",
              "      document.body.appendChild(div);\n",
              "\n",
              "      const buffers = [];\n",
              "      let downloaded = 0;\n",
              "\n",
              "      const channel = await google.colab.kernel.comms.open(id);\n",
              "      // Send a message to notify the kernel that we're ready.\n",
              "      channel.send({})\n",
              "\n",
              "      for await (const message of channel.messages) {\n",
              "        // Send a message to notify the kernel that we're ready.\n",
              "        channel.send({})\n",
              "        if (message.buffers) {\n",
              "          for (const buffer of message.buffers) {\n",
              "            buffers.push(buffer);\n",
              "            downloaded += buffer.byteLength;\n",
              "            progress.value = downloaded;\n",
              "          }\n",
              "        }\n",
              "      }\n",
              "      const blob = new Blob(buffers, {type: 'application/binary'});\n",
              "      const a = document.createElement('a');\n",
              "      a.href = window.URL.createObjectURL(blob);\n",
              "      a.download = filename;\n",
              "      div.appendChild(a);\n",
              "      a.click();\n",
              "      div.remove();\n",
              "    }\n",
              "  "
            ]
          },
          "metadata": {}
        },
        {
          "output_type": "display_data",
          "data": {
            "text/plain": [
              "<IPython.core.display.Javascript object>"
            ],
            "application/javascript": [
              "download(\"download_5ee03b30-47e1-42a4-bccb-1412c1998048\", \"restaurants.csv\", 24778)"
            ]
          },
          "metadata": {}
        },
        {
          "output_type": "display_data",
          "data": {
            "text/plain": [
              "<IPython.core.display.Javascript object>"
            ],
            "application/javascript": [
              "\n",
              "    async function download(id, filename, size) {\n",
              "      if (!google.colab.kernel.accessAllowed) {\n",
              "        return;\n",
              "      }\n",
              "      const div = document.createElement('div');\n",
              "      const label = document.createElement('label');\n",
              "      label.textContent = `Downloading \"${filename}\": `;\n",
              "      div.appendChild(label);\n",
              "      const progress = document.createElement('progress');\n",
              "      progress.max = size;\n",
              "      div.appendChild(progress);\n",
              "      document.body.appendChild(div);\n",
              "\n",
              "      const buffers = [];\n",
              "      let downloaded = 0;\n",
              "\n",
              "      const channel = await google.colab.kernel.comms.open(id);\n",
              "      // Send a message to notify the kernel that we're ready.\n",
              "      channel.send({})\n",
              "\n",
              "      for await (const message of channel.messages) {\n",
              "        // Send a message to notify the kernel that we're ready.\n",
              "        channel.send({})\n",
              "        if (message.buffers) {\n",
              "          for (const buffer of message.buffers) {\n",
              "            buffers.push(buffer);\n",
              "            downloaded += buffer.byteLength;\n",
              "            progress.value = downloaded;\n",
              "          }\n",
              "        }\n",
              "      }\n",
              "      const blob = new Blob(buffers, {type: 'application/binary'});\n",
              "      const a = document.createElement('a');\n",
              "      a.href = window.URL.createObjectURL(blob);\n",
              "      a.download = filename;\n",
              "      div.appendChild(a);\n",
              "      a.click();\n",
              "      div.remove();\n",
              "    }\n",
              "  "
            ]
          },
          "metadata": {}
        },
        {
          "output_type": "display_data",
          "data": {
            "text/plain": [
              "<IPython.core.display.Javascript object>"
            ],
            "application/javascript": [
              "download(\"download_055aa027-3410-4db0-954c-356771305df7\", \"menu_items.csv\", 161198)"
            ]
          },
          "metadata": {}
        },
        {
          "output_type": "display_data",
          "data": {
            "text/plain": [
              "<IPython.core.display.Javascript object>"
            ],
            "application/javascript": [
              "\n",
              "    async function download(id, filename, size) {\n",
              "      if (!google.colab.kernel.accessAllowed) {\n",
              "        return;\n",
              "      }\n",
              "      const div = document.createElement('div');\n",
              "      const label = document.createElement('label');\n",
              "      label.textContent = `Downloading \"${filename}\": `;\n",
              "      div.appendChild(label);\n",
              "      const progress = document.createElement('progress');\n",
              "      progress.max = size;\n",
              "      div.appendChild(progress);\n",
              "      document.body.appendChild(div);\n",
              "\n",
              "      const buffers = [];\n",
              "      let downloaded = 0;\n",
              "\n",
              "      const channel = await google.colab.kernel.comms.open(id);\n",
              "      // Send a message to notify the kernel that we're ready.\n",
              "      channel.send({})\n",
              "\n",
              "      for await (const message of channel.messages) {\n",
              "        // Send a message to notify the kernel that we're ready.\n",
              "        channel.send({})\n",
              "        if (message.buffers) {\n",
              "          for (const buffer of message.buffers) {\n",
              "            buffers.push(buffer);\n",
              "            downloaded += buffer.byteLength;\n",
              "            progress.value = downloaded;\n",
              "          }\n",
              "        }\n",
              "      }\n",
              "      const blob = new Blob(buffers, {type: 'application/binary'});\n",
              "      const a = document.createElement('a');\n",
              "      a.href = window.URL.createObjectURL(blob);\n",
              "      a.download = filename;\n",
              "      div.appendChild(a);\n",
              "      a.click();\n",
              "      div.remove();\n",
              "    }\n",
              "  "
            ]
          },
          "metadata": {}
        },
        {
          "output_type": "display_data",
          "data": {
            "text/plain": [
              "<IPython.core.display.Javascript object>"
            ],
            "application/javascript": [
              "download(\"download_d87b3dab-e116-4253-afac-a69c7bf2b0b1\", \"orders.csv\", 5988549)"
            ]
          },
          "metadata": {}
        },
        {
          "output_type": "display_data",
          "data": {
            "text/plain": [
              "<IPython.core.display.Javascript object>"
            ],
            "application/javascript": [
              "\n",
              "    async function download(id, filename, size) {\n",
              "      if (!google.colab.kernel.accessAllowed) {\n",
              "        return;\n",
              "      }\n",
              "      const div = document.createElement('div');\n",
              "      const label = document.createElement('label');\n",
              "      label.textContent = `Downloading \"${filename}\": `;\n",
              "      div.appendChild(label);\n",
              "      const progress = document.createElement('progress');\n",
              "      progress.max = size;\n",
              "      div.appendChild(progress);\n",
              "      document.body.appendChild(div);\n",
              "\n",
              "      const buffers = [];\n",
              "      let downloaded = 0;\n",
              "\n",
              "      const channel = await google.colab.kernel.comms.open(id);\n",
              "      // Send a message to notify the kernel that we're ready.\n",
              "      channel.send({})\n",
              "\n",
              "      for await (const message of channel.messages) {\n",
              "        // Send a message to notify the kernel that we're ready.\n",
              "        channel.send({})\n",
              "        if (message.buffers) {\n",
              "          for (const buffer of message.buffers) {\n",
              "            buffers.push(buffer);\n",
              "            downloaded += buffer.byteLength;\n",
              "            progress.value = downloaded;\n",
              "          }\n",
              "        }\n",
              "      }\n",
              "      const blob = new Blob(buffers, {type: 'application/binary'});\n",
              "      const a = document.createElement('a');\n",
              "      a.href = window.URL.createObjectURL(blob);\n",
              "      a.download = filename;\n",
              "      div.appendChild(a);\n",
              "      a.click();\n",
              "      div.remove();\n",
              "    }\n",
              "  "
            ]
          },
          "metadata": {}
        },
        {
          "output_type": "display_data",
          "data": {
            "text/plain": [
              "<IPython.core.display.Javascript object>"
            ],
            "application/javascript": [
              "download(\"download_de994a9f-871d-41a6-b4a7-b95f9b573a62\", \"order_items.csv\", 3043692)"
            ]
          },
          "metadata": {}
        },
        {
          "output_type": "display_data",
          "data": {
            "text/plain": [
              "<IPython.core.display.Javascript object>"
            ],
            "application/javascript": [
              "\n",
              "    async function download(id, filename, size) {\n",
              "      if (!google.colab.kernel.accessAllowed) {\n",
              "        return;\n",
              "      }\n",
              "      const div = document.createElement('div');\n",
              "      const label = document.createElement('label');\n",
              "      label.textContent = `Downloading \"${filename}\": `;\n",
              "      div.appendChild(label);\n",
              "      const progress = document.createElement('progress');\n",
              "      progress.max = size;\n",
              "      div.appendChild(progress);\n",
              "      document.body.appendChild(div);\n",
              "\n",
              "      const buffers = [];\n",
              "      let downloaded = 0;\n",
              "\n",
              "      const channel = await google.colab.kernel.comms.open(id);\n",
              "      // Send a message to notify the kernel that we're ready.\n",
              "      channel.send({})\n",
              "\n",
              "      for await (const message of channel.messages) {\n",
              "        // Send a message to notify the kernel that we're ready.\n",
              "        channel.send({})\n",
              "        if (message.buffers) {\n",
              "          for (const buffer of message.buffers) {\n",
              "            buffers.push(buffer);\n",
              "            downloaded += buffer.byteLength;\n",
              "            progress.value = downloaded;\n",
              "          }\n",
              "        }\n",
              "      }\n",
              "      const blob = new Blob(buffers, {type: 'application/binary'});\n",
              "      const a = document.createElement('a');\n",
              "      a.href = window.URL.createObjectURL(blob);\n",
              "      a.download = filename;\n",
              "      div.appendChild(a);\n",
              "      a.click();\n",
              "      div.remove();\n",
              "    }\n",
              "  "
            ]
          },
          "metadata": {}
        },
        {
          "output_type": "display_data",
          "data": {
            "text/plain": [
              "<IPython.core.display.Javascript object>"
            ],
            "application/javascript": [
              "download(\"download_ea7af6a2-44d7-4e52-9ebf-101f8f1ead3c\", \"delivery_persons.csv\", 9753)"
            ]
          },
          "metadata": {}
        },
        {
          "output_type": "display_data",
          "data": {
            "text/plain": [
              "<IPython.core.display.Javascript object>"
            ],
            "application/javascript": [
              "\n",
              "    async function download(id, filename, size) {\n",
              "      if (!google.colab.kernel.accessAllowed) {\n",
              "        return;\n",
              "      }\n",
              "      const div = document.createElement('div');\n",
              "      const label = document.createElement('label');\n",
              "      label.textContent = `Downloading \"${filename}\": `;\n",
              "      div.appendChild(label);\n",
              "      const progress = document.createElement('progress');\n",
              "      progress.max = size;\n",
              "      div.appendChild(progress);\n",
              "      document.body.appendChild(div);\n",
              "\n",
              "      const buffers = [];\n",
              "      let downloaded = 0;\n",
              "\n",
              "      const channel = await google.colab.kernel.comms.open(id);\n",
              "      // Send a message to notify the kernel that we're ready.\n",
              "      channel.send({})\n",
              "\n",
              "      for await (const message of channel.messages) {\n",
              "        // Send a message to notify the kernel that we're ready.\n",
              "        channel.send({})\n",
              "        if (message.buffers) {\n",
              "          for (const buffer of message.buffers) {\n",
              "            buffers.push(buffer);\n",
              "            downloaded += buffer.byteLength;\n",
              "            progress.value = downloaded;\n",
              "          }\n",
              "        }\n",
              "      }\n",
              "      const blob = new Blob(buffers, {type: 'application/binary'});\n",
              "      const a = document.createElement('a');\n",
              "      a.href = window.URL.createObjectURL(blob);\n",
              "      a.download = filename;\n",
              "      div.appendChild(a);\n",
              "      a.click();\n",
              "      div.remove();\n",
              "    }\n",
              "  "
            ]
          },
          "metadata": {}
        },
        {
          "output_type": "display_data",
          "data": {
            "text/plain": [
              "<IPython.core.display.Javascript object>"
            ],
            "application/javascript": [
              "download(\"download_b7c61f66-d042-4f97-b2a8-d52d43432a1e\", \"deliveries.csv\", 6612791)"
            ]
          },
          "metadata": {}
        },
        {
          "output_type": "display_data",
          "data": {
            "text/plain": [
              "<IPython.core.display.Javascript object>"
            ],
            "application/javascript": [
              "\n",
              "    async function download(id, filename, size) {\n",
              "      if (!google.colab.kernel.accessAllowed) {\n",
              "        return;\n",
              "      }\n",
              "      const div = document.createElement('div');\n",
              "      const label = document.createElement('label');\n",
              "      label.textContent = `Downloading \"${filename}\": `;\n",
              "      div.appendChild(label);\n",
              "      const progress = document.createElement('progress');\n",
              "      progress.max = size;\n",
              "      div.appendChild(progress);\n",
              "      document.body.appendChild(div);\n",
              "\n",
              "      const buffers = [];\n",
              "      let downloaded = 0;\n",
              "\n",
              "      const channel = await google.colab.kernel.comms.open(id);\n",
              "      // Send a message to notify the kernel that we're ready.\n",
              "      channel.send({})\n",
              "\n",
              "      for await (const message of channel.messages) {\n",
              "        // Send a message to notify the kernel that we're ready.\n",
              "        channel.send({})\n",
              "        if (message.buffers) {\n",
              "          for (const buffer of message.buffers) {\n",
              "            buffers.push(buffer);\n",
              "            downloaded += buffer.byteLength;\n",
              "            progress.value = downloaded;\n",
              "          }\n",
              "        }\n",
              "      }\n",
              "      const blob = new Blob(buffers, {type: 'application/binary'});\n",
              "      const a = document.createElement('a');\n",
              "      a.href = window.URL.createObjectURL(blob);\n",
              "      a.download = filename;\n",
              "      div.appendChild(a);\n",
              "      a.click();\n",
              "      div.remove();\n",
              "    }\n",
              "  "
            ]
          },
          "metadata": {}
        },
        {
          "output_type": "display_data",
          "data": {
            "text/plain": [
              "<IPython.core.display.Javascript object>"
            ],
            "application/javascript": [
              "download(\"download_03570009-0d7f-4d43-9e92-d1c30097c9f4\", \"delivery_status_history.csv\", 6939645)"
            ]
          },
          "metadata": {}
        },
        {
          "output_type": "display_data",
          "data": {
            "text/plain": [
              "<IPython.core.display.Javascript object>"
            ],
            "application/javascript": [
              "\n",
              "    async function download(id, filename, size) {\n",
              "      if (!google.colab.kernel.accessAllowed) {\n",
              "        return;\n",
              "      }\n",
              "      const div = document.createElement('div');\n",
              "      const label = document.createElement('label');\n",
              "      label.textContent = `Downloading \"${filename}\": `;\n",
              "      div.appendChild(label);\n",
              "      const progress = document.createElement('progress');\n",
              "      progress.max = size;\n",
              "      div.appendChild(progress);\n",
              "      document.body.appendChild(div);\n",
              "\n",
              "      const buffers = [];\n",
              "      let downloaded = 0;\n",
              "\n",
              "      const channel = await google.colab.kernel.comms.open(id);\n",
              "      // Send a message to notify the kernel that we're ready.\n",
              "      channel.send({})\n",
              "\n",
              "      for await (const message of channel.messages) {\n",
              "        // Send a message to notify the kernel that we're ready.\n",
              "        channel.send({})\n",
              "        if (message.buffers) {\n",
              "          for (const buffer of message.buffers) {\n",
              "            buffers.push(buffer);\n",
              "            downloaded += buffer.byteLength;\n",
              "            progress.value = downloaded;\n",
              "          }\n",
              "        }\n",
              "      }\n",
              "      const blob = new Blob(buffers, {type: 'application/binary'});\n",
              "      const a = document.createElement('a');\n",
              "      a.href = window.URL.createObjectURL(blob);\n",
              "      a.download = filename;\n",
              "      div.appendChild(a);\n",
              "      a.click();\n",
              "      div.remove();\n",
              "    }\n",
              "  "
            ]
          },
          "metadata": {}
        },
        {
          "output_type": "display_data",
          "data": {
            "text/plain": [
              "<IPython.core.display.Javascript object>"
            ],
            "application/javascript": [
              "download(\"download_5e261c60-ca08-4fd0-89d4-97ea191c4f4c\", \"payment_methods.csv\", 77)"
            ]
          },
          "metadata": {}
        },
        {
          "output_type": "display_data",
          "data": {
            "text/plain": [
              "<IPython.core.display.Javascript object>"
            ],
            "application/javascript": [
              "\n",
              "    async function download(id, filename, size) {\n",
              "      if (!google.colab.kernel.accessAllowed) {\n",
              "        return;\n",
              "      }\n",
              "      const div = document.createElement('div');\n",
              "      const label = document.createElement('label');\n",
              "      label.textContent = `Downloading \"${filename}\": `;\n",
              "      div.appendChild(label);\n",
              "      const progress = document.createElement('progress');\n",
              "      progress.max = size;\n",
              "      div.appendChild(progress);\n",
              "      document.body.appendChild(div);\n",
              "\n",
              "      const buffers = [];\n",
              "      let downloaded = 0;\n",
              "\n",
              "      const channel = await google.colab.kernel.comms.open(id);\n",
              "      // Send a message to notify the kernel that we're ready.\n",
              "      channel.send({})\n",
              "\n",
              "      for await (const message of channel.messages) {\n",
              "        // Send a message to notify the kernel that we're ready.\n",
              "        channel.send({})\n",
              "        if (message.buffers) {\n",
              "          for (const buffer of message.buffers) {\n",
              "            buffers.push(buffer);\n",
              "            downloaded += buffer.byteLength;\n",
              "            progress.value = downloaded;\n",
              "          }\n",
              "        }\n",
              "      }\n",
              "      const blob = new Blob(buffers, {type: 'application/binary'});\n",
              "      const a = document.createElement('a');\n",
              "      a.href = window.URL.createObjectURL(blob);\n",
              "      a.download = filename;\n",
              "      div.appendChild(a);\n",
              "      a.click();\n",
              "      div.remove();\n",
              "    }\n",
              "  "
            ]
          },
          "metadata": {}
        },
        {
          "output_type": "display_data",
          "data": {
            "text/plain": [
              "<IPython.core.display.Javascript object>"
            ],
            "application/javascript": [
              "download(\"download_8589136b-e67c-43ee-b345-08b5bbd7e2c0\", \"payments.csv\", 5319702)"
            ]
          },
          "metadata": {}
        },
        {
          "output_type": "display_data",
          "data": {
            "text/plain": [
              "<IPython.core.display.Javascript object>"
            ],
            "application/javascript": [
              "\n",
              "    async function download(id, filename, size) {\n",
              "      if (!google.colab.kernel.accessAllowed) {\n",
              "        return;\n",
              "      }\n",
              "      const div = document.createElement('div');\n",
              "      const label = document.createElement('label');\n",
              "      label.textContent = `Downloading \"${filename}\": `;\n",
              "      div.appendChild(label);\n",
              "      const progress = document.createElement('progress');\n",
              "      progress.max = size;\n",
              "      div.appendChild(progress);\n",
              "      document.body.appendChild(div);\n",
              "\n",
              "      const buffers = [];\n",
              "      let downloaded = 0;\n",
              "\n",
              "      const channel = await google.colab.kernel.comms.open(id);\n",
              "      // Send a message to notify the kernel that we're ready.\n",
              "      channel.send({})\n",
              "\n",
              "      for await (const message of channel.messages) {\n",
              "        // Send a message to notify the kernel that we're ready.\n",
              "        channel.send({})\n",
              "        if (message.buffers) {\n",
              "          for (const buffer of message.buffers) {\n",
              "            buffers.push(buffer);\n",
              "            downloaded += buffer.byteLength;\n",
              "            progress.value = downloaded;\n",
              "          }\n",
              "        }\n",
              "      }\n",
              "      const blob = new Blob(buffers, {type: 'application/binary'});\n",
              "      const a = document.createElement('a');\n",
              "      a.href = window.URL.createObjectURL(blob);\n",
              "      a.download = filename;\n",
              "      div.appendChild(a);\n",
              "      a.click();\n",
              "      div.remove();\n",
              "    }\n",
              "  "
            ]
          },
          "metadata": {}
        },
        {
          "output_type": "display_data",
          "data": {
            "text/plain": [
              "<IPython.core.display.Javascript object>"
            ],
            "application/javascript": [
              "download(\"download_b44ca587-d0bb-4e22-98f6-e01362cefbcc\", \"ratings.csv\", 3859658)"
            ]
          },
          "metadata": {}
        },
        {
          "output_type": "display_data",
          "data": {
            "text/plain": [
              "<IPython.core.display.Javascript object>"
            ],
            "application/javascript": [
              "\n",
              "    async function download(id, filename, size) {\n",
              "      if (!google.colab.kernel.accessAllowed) {\n",
              "        return;\n",
              "      }\n",
              "      const div = document.createElement('div');\n",
              "      const label = document.createElement('label');\n",
              "      label.textContent = `Downloading \"${filename}\": `;\n",
              "      div.appendChild(label);\n",
              "      const progress = document.createElement('progress');\n",
              "      progress.max = size;\n",
              "      div.appendChild(progress);\n",
              "      document.body.appendChild(div);\n",
              "\n",
              "      const buffers = [];\n",
              "      let downloaded = 0;\n",
              "\n",
              "      const channel = await google.colab.kernel.comms.open(id);\n",
              "      // Send a message to notify the kernel that we're ready.\n",
              "      channel.send({})\n",
              "\n",
              "      for await (const message of channel.messages) {\n",
              "        // Send a message to notify the kernel that we're ready.\n",
              "        channel.send({})\n",
              "        if (message.buffers) {\n",
              "          for (const buffer of message.buffers) {\n",
              "            buffers.push(buffer);\n",
              "            downloaded += buffer.byteLength;\n",
              "            progress.value = downloaded;\n",
              "          }\n",
              "        }\n",
              "      }\n",
              "      const blob = new Blob(buffers, {type: 'application/binary'});\n",
              "      const a = document.createElement('a');\n",
              "      a.href = window.URL.createObjectURL(blob);\n",
              "      a.download = filename;\n",
              "      div.appendChild(a);\n",
              "      a.click();\n",
              "      div.remove();\n",
              "    }\n",
              "  "
            ]
          },
          "metadata": {}
        },
        {
          "output_type": "display_data",
          "data": {
            "text/plain": [
              "<IPython.core.display.Javascript object>"
            ],
            "application/javascript": [
              "download(\"download_dcba5baf-bd7d-4cb5-94ae-6bfb03b70b99\", \"promotions.csv\", 3642)"
            ]
          },
          "metadata": {}
        },
        {
          "output_type": "display_data",
          "data": {
            "text/plain": [
              "<IPython.core.display.Javascript object>"
            ],
            "application/javascript": [
              "\n",
              "    async function download(id, filename, size) {\n",
              "      if (!google.colab.kernel.accessAllowed) {\n",
              "        return;\n",
              "      }\n",
              "      const div = document.createElement('div');\n",
              "      const label = document.createElement('label');\n",
              "      label.textContent = `Downloading \"${filename}\": `;\n",
              "      div.appendChild(label);\n",
              "      const progress = document.createElement('progress');\n",
              "      progress.max = size;\n",
              "      div.appendChild(progress);\n",
              "      document.body.appendChild(div);\n",
              "\n",
              "      const buffers = [];\n",
              "      let downloaded = 0;\n",
              "\n",
              "      const channel = await google.colab.kernel.comms.open(id);\n",
              "      // Send a message to notify the kernel that we're ready.\n",
              "      channel.send({})\n",
              "\n",
              "      for await (const message of channel.messages) {\n",
              "        // Send a message to notify the kernel that we're ready.\n",
              "        channel.send({})\n",
              "        if (message.buffers) {\n",
              "          for (const buffer of message.buffers) {\n",
              "            buffers.push(buffer);\n",
              "            downloaded += buffer.byteLength;\n",
              "            progress.value = downloaded;\n",
              "          }\n",
              "        }\n",
              "      }\n",
              "      const blob = new Blob(buffers, {type: 'application/binary'});\n",
              "      const a = document.createElement('a');\n",
              "      a.href = window.URL.createObjectURL(blob);\n",
              "      a.download = filename;\n",
              "      div.appendChild(a);\n",
              "      a.click();\n",
              "      div.remove();\n",
              "    }\n",
              "  "
            ]
          },
          "metadata": {}
        },
        {
          "output_type": "display_data",
          "data": {
            "text/plain": [
              "<IPython.core.display.Javascript object>"
            ],
            "application/javascript": [
              "download(\"download_87385b71-c127-4db1-9bb6-a7fdf48c1a1f\", \"order_promotions.csv\", 154303)"
            ]
          },
          "metadata": {}
        },
        {
          "output_type": "display_data",
          "data": {
            "text/plain": [
              "<IPython.core.display.Javascript object>"
            ],
            "application/javascript": [
              "\n",
              "    async function download(id, filename, size) {\n",
              "      if (!google.colab.kernel.accessAllowed) {\n",
              "        return;\n",
              "      }\n",
              "      const div = document.createElement('div');\n",
              "      const label = document.createElement('label');\n",
              "      label.textContent = `Downloading \"${filename}\": `;\n",
              "      div.appendChild(label);\n",
              "      const progress = document.createElement('progress');\n",
              "      progress.max = size;\n",
              "      div.appendChild(progress);\n",
              "      document.body.appendChild(div);\n",
              "\n",
              "      const buffers = [];\n",
              "      let downloaded = 0;\n",
              "\n",
              "      const channel = await google.colab.kernel.comms.open(id);\n",
              "      // Send a message to notify the kernel that we're ready.\n",
              "      channel.send({})\n",
              "\n",
              "      for await (const message of channel.messages) {\n",
              "        // Send a message to notify the kernel that we're ready.\n",
              "        channel.send({})\n",
              "        if (message.buffers) {\n",
              "          for (const buffer of message.buffers) {\n",
              "            buffers.push(buffer);\n",
              "            downloaded += buffer.byteLength;\n",
              "            progress.value = downloaded;\n",
              "          }\n",
              "        }\n",
              "      }\n",
              "      const blob = new Blob(buffers, {type: 'application/binary'});\n",
              "      const a = document.createElement('a');\n",
              "      a.href = window.URL.createObjectURL(blob);\n",
              "      a.download = filename;\n",
              "      div.appendChild(a);\n",
              "      a.click();\n",
              "      div.remove();\n",
              "    }\n",
              "  "
            ]
          },
          "metadata": {}
        },
        {
          "output_type": "display_data",
          "data": {
            "text/plain": [
              "<IPython.core.display.Javascript object>"
            ],
            "application/javascript": [
              "download(\"download_efc5cba8-baca-42d5-9aec-bc15428219e5\", \"menu_item_history.csv\", 475554)"
            ]
          },
          "metadata": {}
        },
        {
          "output_type": "display_data",
          "data": {
            "text/plain": [
              "<IPython.core.display.Javascript object>"
            ],
            "application/javascript": [
              "\n",
              "    async function download(id, filename, size) {\n",
              "      if (!google.colab.kernel.accessAllowed) {\n",
              "        return;\n",
              "      }\n",
              "      const div = document.createElement('div');\n",
              "      const label = document.createElement('label');\n",
              "      label.textContent = `Downloading \"${filename}\": `;\n",
              "      div.appendChild(label);\n",
              "      const progress = document.createElement('progress');\n",
              "      progress.max = size;\n",
              "      div.appendChild(progress);\n",
              "      document.body.appendChild(div);\n",
              "\n",
              "      const buffers = [];\n",
              "      let downloaded = 0;\n",
              "\n",
              "      const channel = await google.colab.kernel.comms.open(id);\n",
              "      // Send a message to notify the kernel that we're ready.\n",
              "      channel.send({})\n",
              "\n",
              "      for await (const message of channel.messages) {\n",
              "        // Send a message to notify the kernel that we're ready.\n",
              "        channel.send({})\n",
              "        if (message.buffers) {\n",
              "          for (const buffer of message.buffers) {\n",
              "            buffers.push(buffer);\n",
              "            downloaded += buffer.byteLength;\n",
              "            progress.value = downloaded;\n",
              "          }\n",
              "        }\n",
              "      }\n",
              "      const blob = new Blob(buffers, {type: 'application/binary'});\n",
              "      const a = document.createElement('a');\n",
              "      a.href = window.URL.createObjectURL(blob);\n",
              "      a.download = filename;\n",
              "      div.appendChild(a);\n",
              "      a.click();\n",
              "      div.remove();\n",
              "    }\n",
              "  "
            ]
          },
          "metadata": {}
        },
        {
          "output_type": "display_data",
          "data": {
            "text/plain": [
              "<IPython.core.display.Javascript object>"
            ],
            "application/javascript": [
              "download(\"download_c0a93ce1-2365-4e3a-841b-0a5b62f24b0a\", \"user_logins.csv\", 4585338)"
            ]
          },
          "metadata": {}
        }
      ]
    }
  ]
}